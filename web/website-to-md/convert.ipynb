{
 "cells": [
  {
   "cell_type": "code",
   "execution_count": 15,
   "metadata": {},
   "outputs": [
    {
     "name": "stdout",
     "output_type": "stream",
     "text": [
      "Requirement already satisfied: langchain in /Users/john/Documents/Workspace/2Lines/discontinuity-api/api/venv/lib/python3.10/site-packages (0.0.271)\n",
      "Requirement already satisfied: langchain-community in /Users/john/Documents/Workspace/2Lines/discontinuity-api/api/venv/lib/python3.10/site-packages (0.0.20)\n",
      "Collecting html2text\n",
      "  Downloading html2text-2024.2.26.tar.gz (56 kB)\n",
      "\u001b[2K     \u001b[90m━━━━━━━━━━━━━━━━━━━━━━━━━━━━━━━━━━━━━━━━\u001b[0m \u001b[32m56.5/56.5 kB\u001b[0m \u001b[31m1.2 MB/s\u001b[0m eta \u001b[36m0:00:00\u001b[0ma \u001b[36m0:00:01\u001b[0m\n",
      "\u001b[?25h  Preparing metadata (setup.py) ... \u001b[?25ldone\n",
      "\u001b[?25hRequirement already satisfied: unstructured in /Users/john/Documents/Workspace/2Lines/discontinuity-api/api/venv/lib/python3.10/site-packages (0.10.12)\n",
      "Requirement already satisfied: PyYAML>=5.3 in /Users/john/Documents/Workspace/2Lines/discontinuity-api/api/venv/lib/python3.10/site-packages (from langchain) (6.0.1)\n",
      "Requirement already satisfied: SQLAlchemy<3,>=1.4 in /Users/john/Documents/Workspace/2Lines/discontinuity-api/api/venv/lib/python3.10/site-packages (from langchain) (1.4.41)\n",
      "Requirement already satisfied: aiohttp<4.0.0,>=3.8.3 in /Users/john/Documents/Workspace/2Lines/discontinuity-api/api/venv/lib/python3.10/site-packages (from langchain) (3.8.5)\n",
      "Requirement already satisfied: async-timeout<5.0.0,>=4.0.0 in /Users/john/Documents/Workspace/2Lines/discontinuity-api/api/venv/lib/python3.10/site-packages (from langchain) (4.0.3)\n",
      "Requirement already satisfied: dataclasses-json<0.6.0,>=0.5.7 in /Users/john/Documents/Workspace/2Lines/discontinuity-api/api/venv/lib/python3.10/site-packages (from langchain) (0.5.14)\n",
      "Requirement already satisfied: langsmith<0.1.0,>=0.0.21 in /Users/john/Documents/Workspace/2Lines/discontinuity-api/api/venv/lib/python3.10/site-packages (from langchain) (0.0.87)\n",
      "Requirement already satisfied: numexpr<3.0.0,>=2.8.4 in /Users/john/Documents/Workspace/2Lines/discontinuity-api/api/venv/lib/python3.10/site-packages (from langchain) (2.8.5)\n",
      "Requirement already satisfied: numpy<2,>=1 in /Users/john/Documents/Workspace/2Lines/discontinuity-api/api/venv/lib/python3.10/site-packages (from langchain) (1.25.2)\n",
      "Requirement already satisfied: pydantic<3,>=1 in /Users/john/Documents/Workspace/2Lines/discontinuity-api/api/venv/lib/python3.10/site-packages (from langchain) (1.10.12)\n",
      "Requirement already satisfied: requests<3,>=2 in /Users/john/Documents/Workspace/2Lines/discontinuity-api/api/venv/lib/python3.10/site-packages (from langchain) (2.31.0)\n",
      "Requirement already satisfied: tenacity<9.0.0,>=8.1.0 in /Users/john/Documents/Workspace/2Lines/discontinuity-api/api/venv/lib/python3.10/site-packages (from langchain) (8.2.3)\n",
      "Requirement already satisfied: langchain-core<0.2,>=0.1.21 in /Users/john/Documents/Workspace/2Lines/discontinuity-api/api/venv/lib/python3.10/site-packages (from langchain-community) (0.1.23)\n",
      "Requirement already satisfied: chardet in /Users/john/Documents/Workspace/2Lines/discontinuity-api/api/venv/lib/python3.10/site-packages (from unstructured) (3.0.4)\n",
      "Requirement already satisfied: filetype in /Users/john/Documents/Workspace/2Lines/discontinuity-api/api/venv/lib/python3.10/site-packages (from unstructured) (1.2.0)\n",
      "Requirement already satisfied: python-magic in /Users/john/Documents/Workspace/2Lines/discontinuity-api/api/venv/lib/python3.10/site-packages (from unstructured) (0.4.27)\n",
      "Requirement already satisfied: lxml in /Users/john/Documents/Workspace/2Lines/discontinuity-api/api/venv/lib/python3.10/site-packages (from unstructured) (4.9.3)\n",
      "Requirement already satisfied: nltk in /Users/john/Documents/Workspace/2Lines/discontinuity-api/api/venv/lib/python3.10/site-packages (from unstructured) (3.8.1)\n",
      "Requirement already satisfied: tabulate in /Users/john/Documents/Workspace/2Lines/discontinuity-api/api/venv/lib/python3.10/site-packages (from unstructured) (0.9.0)\n",
      "Requirement already satisfied: beautifulsoup4 in /Users/john/Documents/Workspace/2Lines/discontinuity-api/api/venv/lib/python3.10/site-packages (from unstructured) (4.12.2)\n",
      "Requirement already satisfied: emoji in /Users/john/Documents/Workspace/2Lines/discontinuity-api/api/venv/lib/python3.10/site-packages (from unstructured) (2.8.0)\n",
      "Requirement already satisfied: attrs>=17.3.0 in /Users/john/Documents/Workspace/2Lines/discontinuity-api/api/venv/lib/python3.10/site-packages (from aiohttp<4.0.0,>=3.8.3->langchain) (23.1.0)\n",
      "Requirement already satisfied: charset-normalizer<4.0,>=2.0 in /Users/john/Documents/Workspace/2Lines/discontinuity-api/api/venv/lib/python3.10/site-packages (from aiohttp<4.0.0,>=3.8.3->langchain) (2.0.12)\n",
      "Requirement already satisfied: multidict<7.0,>=4.5 in /Users/john/Documents/Workspace/2Lines/discontinuity-api/api/venv/lib/python3.10/site-packages (from aiohttp<4.0.0,>=3.8.3->langchain) (6.0.4)\n",
      "Requirement already satisfied: yarl<2.0,>=1.0 in /Users/john/Documents/Workspace/2Lines/discontinuity-api/api/venv/lib/python3.10/site-packages (from aiohttp<4.0.0,>=3.8.3->langchain) (1.9.2)\n",
      "Requirement already satisfied: frozenlist>=1.1.1 in /Users/john/Documents/Workspace/2Lines/discontinuity-api/api/venv/lib/python3.10/site-packages (from aiohttp<4.0.0,>=3.8.3->langchain) (1.4.0)\n",
      "Requirement already satisfied: aiosignal>=1.1.2 in /Users/john/Documents/Workspace/2Lines/discontinuity-api/api/venv/lib/python3.10/site-packages (from aiohttp<4.0.0,>=3.8.3->langchain) (1.3.1)\n",
      "Requirement already satisfied: marshmallow<4.0.0,>=3.18.0 in /Users/john/Documents/Workspace/2Lines/discontinuity-api/api/venv/lib/python3.10/site-packages (from dataclasses-json<0.6.0,>=0.5.7->langchain) (3.20.1)\n",
      "Requirement already satisfied: typing-inspect<1,>=0.4.0 in /Users/john/Documents/Workspace/2Lines/discontinuity-api/api/venv/lib/python3.10/site-packages (from dataclasses-json<0.6.0,>=0.5.7->langchain) (0.9.0)\n",
      "Requirement already satisfied: anyio<5,>=3 in /Users/john/Documents/Workspace/2Lines/discontinuity-api/api/venv/lib/python3.10/site-packages (from langchain-core<0.2,>=0.1.21->langchain-community) (3.7.1)\n",
      "Requirement already satisfied: jsonpatch<2.0,>=1.33 in /Users/john/Documents/Workspace/2Lines/discontinuity-api/api/venv/lib/python3.10/site-packages (from langchain-core<0.2,>=0.1.21->langchain-community) (1.33)\n",
      "Requirement already satisfied: packaging<24.0,>=23.2 in /Users/john/Documents/Workspace/2Lines/discontinuity-api/api/venv/lib/python3.10/site-packages (from langchain-core<0.2,>=0.1.21->langchain-community) (23.2)\n",
      "Requirement already satisfied: typing-extensions>=4.2.0 in /Users/john/Documents/Workspace/2Lines/discontinuity-api/api/venv/lib/python3.10/site-packages (from pydantic<3,>=1->langchain) (4.7.1)\n",
      "Requirement already satisfied: idna<4,>=2.5 in /Users/john/Documents/Workspace/2Lines/discontinuity-api/api/venv/lib/python3.10/site-packages (from requests<3,>=2->langchain) (2.8)\n",
      "Requirement already satisfied: urllib3<3,>=1.21.1 in /Users/john/Documents/Workspace/2Lines/discontinuity-api/api/venv/lib/python3.10/site-packages (from requests<3,>=2->langchain) (1.26.16)\n",
      "Requirement already satisfied: certifi>=2017.4.17 in /Users/john/Documents/Workspace/2Lines/discontinuity-api/api/venv/lib/python3.10/site-packages (from requests<3,>=2->langchain) (2023.7.22)\n",
      "Requirement already satisfied: soupsieve>1.2 in /Users/john/Documents/Workspace/2Lines/discontinuity-api/api/venv/lib/python3.10/site-packages (from beautifulsoup4->unstructured) (2.5)\n",
      "Requirement already satisfied: click in /Users/john/Documents/Workspace/2Lines/discontinuity-api/api/venv/lib/python3.10/site-packages (from nltk->unstructured) (8.1.7)\n",
      "Requirement already satisfied: joblib in /Users/john/Documents/Workspace/2Lines/discontinuity-api/api/venv/lib/python3.10/site-packages (from nltk->unstructured) (1.3.2)\n",
      "Requirement already satisfied: regex>=2021.8.3 in /Users/john/Documents/Workspace/2Lines/discontinuity-api/api/venv/lib/python3.10/site-packages (from nltk->unstructured) (2023.8.8)\n",
      "Requirement already satisfied: tqdm in /Users/john/Documents/Workspace/2Lines/discontinuity-api/api/venv/lib/python3.10/site-packages (from nltk->unstructured) (4.66.1)\n",
      "Requirement already satisfied: sniffio>=1.1 in /Users/john/Documents/Workspace/2Lines/discontinuity-api/api/venv/lib/python3.10/site-packages (from anyio<5,>=3->langchain-core<0.2,>=0.1.21->langchain-community) (1.3.0)\n",
      "Requirement already satisfied: exceptiongroup in /Users/john/Documents/Workspace/2Lines/discontinuity-api/api/venv/lib/python3.10/site-packages (from anyio<5,>=3->langchain-core<0.2,>=0.1.21->langchain-community) (1.1.3)\n",
      "Requirement already satisfied: jsonpointer>=1.9 in /Users/john/Documents/Workspace/2Lines/discontinuity-api/api/venv/lib/python3.10/site-packages (from jsonpatch<2.0,>=1.33->langchain-core<0.2,>=0.1.21->langchain-community) (2.4)\n",
      "Requirement already satisfied: mypy-extensions>=0.3.0 in /Users/john/Documents/Workspace/2Lines/discontinuity-api/api/venv/lib/python3.10/site-packages (from typing-inspect<1,>=0.4.0->dataclasses-json<0.6.0,>=0.5.7->langchain) (1.0.0)\n",
      "Building wheels for collected packages: html2text\n",
      "  Building wheel for html2text (setup.py) ... \u001b[?25ldone\n",
      "\u001b[?25h  Created wheel for html2text: filename=html2text-2024.2.26-py3-none-any.whl size=33111 sha256=25574461bbc4d1795972af98e2c1b1af1d8fd6bafbfed58b1fd06e44867d783b\n",
      "  Stored in directory: /Users/john/Library/Caches/pip/wheels/f3/96/6d/a7eba8f80d31cbd188a2787b81514d82fc5ae6943c44777659\n",
      "Successfully built html2text\n",
      "Installing collected packages: html2text\n",
      "Successfully installed html2text-2024.2.26\n",
      "\n",
      "\u001b[1m[\u001b[0m\u001b[34;49mnotice\u001b[0m\u001b[1;39;49m]\u001b[0m\u001b[39;49m A new release of pip is available: \u001b[0m\u001b[31;49m23.1.2\u001b[0m\u001b[39;49m -> \u001b[0m\u001b[32;49m24.0\u001b[0m\n",
      "\u001b[1m[\u001b[0m\u001b[34;49mnotice\u001b[0m\u001b[1;39;49m]\u001b[0m\u001b[39;49m To update, run: \u001b[0m\u001b[32;49mpip install --upgrade pip\u001b[0m\n",
      "Note: you may need to restart the kernel to use updated packages.\n"
     ]
    }
   ],
   "source": [
    "%pip install langchain langchain-community html2text unstructured\n",
    "import langchain\n"
   ]
  },
  {
   "cell_type": "code",
   "execution_count": 20,
   "metadata": {},
   "outputs": [
    {
     "name": "stderr",
     "output_type": "stream",
     "text": [
      "Fetching pages: 100%|##########| 1/1 [00:00<00:00,  3.57it/s]"
     ]
    },
    {
     "name": "stdout",
     "output_type": "stream",
     "text": [
      "[]\n"
     ]
    },
    {
     "name": "stderr",
     "output_type": "stream",
     "text": [
      "\n"
     ]
    },
    {
     "ename": "IndexError",
     "evalue": "list index out of range",
     "output_type": "error",
     "traceback": [
      "\u001b[0;31m---------------------------------------------------------------------------\u001b[0m",
      "\u001b[0;31mIndexError\u001b[0m                                Traceback (most recent call last)",
      "Cell \u001b[0;32mIn[20], line 24\u001b[0m\n\u001b[1;32m     22\u001b[0m file1 \u001b[38;5;241m=\u001b[39m \u001b[38;5;28mopen\u001b[39m(\u001b[38;5;124m\"\u001b[39m\u001b[38;5;124mwebsite.md\u001b[39m\u001b[38;5;124m\"\u001b[39m, \u001b[38;5;124m\"\u001b[39m\u001b[38;5;124mw\u001b[39m\u001b[38;5;124m\"\u001b[39m)\n\u001b[1;32m     23\u001b[0m \u001b[38;5;28;01mfor\u001b[39;00m url \u001b[38;5;129;01min\u001b[39;00m urls:\n\u001b[0;32m---> 24\u001b[0m   doc \u001b[38;5;241m=\u001b[39m \u001b[43mload_locally\u001b[49m\u001b[43m(\u001b[49m\u001b[38;5;124;43mf\u001b[39;49m\u001b[38;5;124;43m'\u001b[39;49m\u001b[38;5;132;43;01m{\u001b[39;49;00m\u001b[43mhost\u001b[49m\u001b[38;5;132;43;01m}\u001b[39;49;00m\u001b[38;5;132;43;01m{\u001b[39;49;00m\u001b[43murl\u001b[49m\u001b[38;5;132;43;01m}\u001b[39;49;00m\u001b[38;5;124;43m'\u001b[39;49m\u001b[43m)\u001b[49m\n\u001b[1;32m     25\u001b[0m   file1\u001b[38;5;241m.\u001b[39mwrite(\u001b[38;5;124mf\u001b[39m\u001b[38;5;124m\"\u001b[39m\u001b[38;5;132;01m{\u001b[39;00mhost\u001b[38;5;132;01m}\u001b[39;00m\u001b[38;5;132;01m{\u001b[39;00murl\u001b[38;5;132;01m}\u001b[39;00m\u001b[38;5;124m---\u001b[39m\u001b[38;5;130;01m\\n\u001b[39;00m\u001b[38;5;130;01m\\n\u001b[39;00m\u001b[38;5;124m\"\u001b[39m)\n\u001b[1;32m     26\u001b[0m   file1\u001b[38;5;241m.\u001b[39mwrite(\u001b[38;5;124mf\u001b[39m\u001b[38;5;124m\"\u001b[39m\u001b[38;5;132;01m{\u001b[39;00mdoc\u001b[38;5;132;01m}\u001b[39;00m\u001b[38;5;130;01m\\n\u001b[39;00m\u001b[38;5;124m\"\u001b[39m)\n",
      "Cell \u001b[0;32mIn[20], line 16\u001b[0m, in \u001b[0;36mload_locally\u001b[0;34m(url)\u001b[0m\n\u001b[1;32m     14\u001b[0m \u001b[38;5;28mprint\u001b[39m(docs)\n\u001b[1;32m     15\u001b[0m docs_transformed \u001b[38;5;241m=\u001b[39m html2text\u001b[38;5;241m.\u001b[39mtransform_documents(docs)\n\u001b[0;32m---> 16\u001b[0m \u001b[38;5;28;01mreturn\u001b[39;00m \u001b[43mdocs_transformed\u001b[49m\u001b[43m[\u001b[49m\u001b[38;5;241;43m0\u001b[39;49m\u001b[43m]\u001b[49m\u001b[38;5;241m.\u001b[39mpage_content\n",
      "\u001b[0;31mIndexError\u001b[0m: list index out of range"
     ]
    }
   ],
   "source": [
    "from langchain_community.document_loaders import AsyncHtmlLoader\n",
    "from langchain_community.document_loaders import UnstructuredHTMLLoader\n",
    "\n",
    "from langchain_community.document_transformers import Html2TextTransformer\n",
    "\n",
    "html2text = Html2TextTransformer()\n",
    "\n",
    "\n",
    "def load_locally(url):\n",
    "    # file needs to be manually added to the\n",
    "    loader = AsyncHtmlLoader(url)\n",
    "\n",
    "    docs = loader.load()\n",
    "    print(docs)\n",
    "    docs_transformed = html2text.transform_documents(docs)\n",
    "    return docs_transformed[0].page_content\n",
    "\n",
    "host = \"https://discontinuity.ai/\"\n",
    "urls = [\"\",\"training\",\"training/strategic-ai-for-leaders\",\"advisory\",\"about\",\"prototyping\", \"legal\"]\n",
    "\n",
    "\n",
    "file1 = open(\"website.md\", \"w\")\n",
    "for url in urls:\n",
    "  doc = load_locally(f'{host}{url}')\n",
    "  file1.write(f\"{host}{url}---\\n\\n\")\n",
    "  file1.write(f\"{doc}\\n\")\n",
    "\n",
    "file1.close()"
   ]
  }
 ],
 "metadata": {
  "kernelspec": {
   "display_name": "venv",
   "language": "python",
   "name": "python3"
  },
  "language_info": {
   "codemirror_mode": {
    "name": "ipython",
    "version": 3
   },
   "file_extension": ".py",
   "mimetype": "text/x-python",
   "name": "python",
   "nbconvert_exporter": "python",
   "pygments_lexer": "ipython3",
   "version": "3.10.13"
  }
 },
 "nbformat": 4,
 "nbformat_minor": 2
}
