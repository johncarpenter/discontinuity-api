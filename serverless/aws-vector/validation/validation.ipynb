{
 "cells": [
  {
   "cell_type": "markdown",
   "metadata": {},
   "source": [
    "** AWS lambda function designed to perform multimodal RAG analysis on a S3 folder. \n",
    "** The function is triggered by a S3 event and it will process all the files in the folder.\n",
    "\n"
   ]
  },
  {
   "cell_type": "markdown",
   "metadata": {},
   "source": []
  },
  {
   "cell_type": "code",
   "execution_count": null,
   "metadata": {
    "vscode": {
     "languageId": "plaintext"
    }
   },
   "outputs": [],
   "source": [
    "curl -X 'POST' 'https://discontinuityai-lykhkurt.api.unstructuredapp.io/general/v0/general'\n",
    "     -H 'accept: application/json'\n",
    "     -H 'Content-Type: multipart/form-data'\n",
    "     -H 'unstructured-api-key: RBY2zH99OWG8rx8lnRs03AuCBA3YTG'\n",
    "     -F 'files=@test.pdf'"
   ]
  }
 ],
 "metadata": {
  "language_info": {
   "name": "python"
  }
 },
 "nbformat": 4,
 "nbformat_minor": 2
}
